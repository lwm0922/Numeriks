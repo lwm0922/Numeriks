{
 "cells": [
  {
   "cell_type": "code",
   "execution_count": 3,
   "metadata": {},
   "outputs": [],
   "source": [
    "import matplotlib.pyplot as plt #Importing required libraries \n",
    "import numpy as np \n",
    "import scipy as sc \n",
    "from scipy.stats import norm \n",
    "import math\n",
    "import pandas as pd \n",
    "\n"
   ]
  },
  {
   "cell_type": "code",
   "execution_count": 19,
   "metadata": {},
   "outputs": [
    {
     "name": "stdout",
     "output_type": "stream",
     "text": [
      "Enter the current spot price: 10\n",
      "Enter the strike price: 10\n",
      "Enter the time to maturity: .25\n",
      "Enter the current volatility: .25\n",
      "Enter a 'risk free' interest rate: .02\n",
      "Enter the number of timesteps:10\n",
      "d1 according to Black-Scholes is 0.10250000000000001\n",
      "d2 according to Black-Scholes is -0.022499999999999992\n",
      "The price at step {1} is: 1.010502589940451\n",
      "The price at step {2} is: 2.4431421914662863\n",
      "The price at step {3} is: 2.583757448868001\n",
      "The price at step {4} is: 3.0292016930883907\n",
      "The price at step {5} is: 3.0674420034338237\n",
      "The price at step {6} is: 3.0674420034338237\n",
      "The price at step {7} is: 3.0674420034338237\n",
      "The price at step {8} is: 3.0674420034338237\n",
      "The price at step {9} is: 3.0674420034338237\n",
      "The price at step {10} is: 3.0674420034338237\n",
      "The european call price is:  0.3052143072616457\n"
     ]
    }
   ],
   "source": [
    "#Doing a numerical integration scheme rather than traversing lattice\n",
    "#I'll make a vectorized version of this soon. I'm just illustrating an example of a simple numerical integration algorithm. \n",
    "#I will also make other versions using different quadrature scheme like Gaussian, Simpsons, Romberg, and Monte Carlo. \n",
    "\n",
    "\n",
    "S_0 = float(input(\"Enter the current spot price: \")) #Initializing our variables \n",
    "K = float(input(\"Enter the strike price: \"))\n",
    "T = float(input(\"Enter the time to maturity: \")) \n",
    "sigma = float(input(\"Enter the current volatility: \")) \n",
    "r = float(input(\"Enter a 'risk free' interest rate: \")) \n",
    "N = int(input(\"Enter the number of timesteps:\"))      \n",
    "\n",
    "\n",
    "\n",
    "\n",
    "d1 = ((np.log(S_0/K)) + (((r + sigma**2/2)*T))) / (sigma*np.sqrt(T))   #Calibrating the Black Scholes solution fot the call price\n",
    "print(\"d1 according to Black-Scholes is\",d1)\n",
    "d2 = d1 - (sigma*np.sqrt(T))\n",
    "print(\"d2 according to Black-Scholes is\",d2)\n",
    "C_t = S_0*norm.cdf(d1) - K*np.exp(-r*T)*norm.cdf(d2)\n",
    "\n",
    "\n",
    "\n",
    "\n",
    "\n",
    "\n",
    "\n",
    "\n",
    "\n",
    "a = np.log(S_0) + r*T -0.5*(sigma**2 * T )    #Essentially the mean of a log-normal distribution(Comes from the black-scholes model and Geometric Brownian motion )\n",
    "b = sigma*np.sqrt(T)                          #Essentially the variance of that same distribution \n",
    "E_C = 0 \n",
    "\n",
    "for i in range(1,N+1):                          \n",
    "    Z_t = np.random.normal(0,1)        #Sampling from the standard normal distrubution \n",
    "    Y = np.exp(b*Z_t + a)\n",
    "    E_C = E_C + max(Y-K,0)\n",
    "    print('The price at step', {i} ,'is:', E_C)\n",
    "E_C = E_C/N                            #By Law of Large Numbers, the expected price should converge to the true price as N becomes large. \n",
    "\n",
    "price = np.exp(-r*T)*E_C\n",
    "print(\"The european call price is: \", price)\n",
    "\n",
    "\n"
   ]
  },
  {
   "cell_type": "code",
   "execution_count": null,
   "metadata": {},
   "outputs": [],
   "source": []
  },
  {
   "cell_type": "code",
   "execution_count": null,
   "metadata": {},
   "outputs": [],
   "source": []
  }
 ],
 "metadata": {
  "kernelspec": {
   "display_name": "Python 3",
   "language": "python",
   "name": "python3"
  },
  "language_info": {
   "codemirror_mode": {
    "name": "ipython",
    "version": 3
   },
   "file_extension": ".py",
   "mimetype": "text/x-python",
   "name": "python",
   "nbconvert_exporter": "python",
   "pygments_lexer": "ipython3",
   "version": "3.8.3"
  }
 },
 "nbformat": 4,
 "nbformat_minor": 4
}
